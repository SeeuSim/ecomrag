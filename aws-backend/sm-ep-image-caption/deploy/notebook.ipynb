{
 "cells": [
  {
   "cell_type": "code",
   "execution_count": 2,
   "metadata": {},
   "outputs": [
    {
     "name": "stdout",
     "output_type": "stream",
     "text": [
      "sagemaker role arn: arn:aws:iam::058264360377:role/SmDeploy\n",
      "sagemaker bucket: ecomragdev\n",
      "sagemaker session region: us-east-1\n"
     ]
    }
   ],
   "source": [
    "import sagemaker\n",
    "import boto3\n",
    "\n",
    "# account_id = \"<ACCOUNT_ID>\"\n",
    "account_id = \"058264360377\"\n",
    "sess = sagemaker.Session()\n",
    "# sagemaker session bucket -> used for uploading data, models and logs\n",
    "# sagemaker will automatically create this bucket if it not exists\n",
    "sagemaker_session_bucket=None\n",
    "if sagemaker_session_bucket is None and sess is not None:\n",
    "    # set to default bucket if a bucket name is not given\n",
    "    sagemaker_session_bucket = \"ecomragdev\"\n",
    "\n",
    "role = f\"arn:aws:iam::{account_id}:role/SmDeploy\"\n",
    "\n",
    "sess = sagemaker.Session(default_bucket=sagemaker_session_bucket)\n",
    "\n",
    "print(f\"sagemaker role arn: {role}\")\n",
    "print(f\"sagemaker bucket: {sess.default_bucket()}\")\n",
    "print(f\"sagemaker session region: {sess.boto_region_name}\")"
   ]
  },
  {
   "cell_type": "code",
   "execution_count": 3,
   "metadata": {},
   "outputs": [
    {
     "name": "stdout",
     "output_type": "stream",
     "text": [
      "----!"
     ]
    },
    {
     "data": {
      "text/plain": [
       "<sagemaker.huggingface.model.HuggingFacePredictor at 0x17ed00610>"
      ]
     },
     "execution_count": 3,
     "metadata": {},
     "output_type": "execute_result"
    }
   ],
   "source": [
    "from sagemaker.huggingface.model import HuggingFaceModel\n",
    "from sagemaker.serverless import ServerlessInferenceConfig\n",
    "\n",
    "\n",
    "s3_location = \"s3://ecomragdev/models/git-base.tar.gz\"\n",
    "\n",
    "# create Hugging Face Model Class\n",
    "huggingface_model = HuggingFaceModel(\n",
    "    name=\"ecomrag-img-caption\",\n",
    "    model_data=s3_location,       # path to your model and script\n",
    "    role=role,                    # iam role with permissions to create an Endpoint\n",
    "    transformers_version=\"4.26\",  # transformers version used\n",
    "    pytorch_version=\"1.13\",       # pytorch version used\n",
    "    py_version='py39',            # python version used\n",
    "    env={\n",
    "      'HF_TASK': 'image-to-text'\n",
    "    }\n",
    ")\n",
    "\n",
    "serverless_config = ServerlessInferenceConfig(\n",
    "  memory_size_in_mb=3072,\n",
    "  max_concurrency=1,\n",
    ")\n",
    "\n",
    "huggingface_model.deploy(serverless_inference_config=serverless_config)"
   ]
  }
 ],
 "metadata": {
  "kernelspec": {
   "display_name": ".venv",
   "language": "python",
   "name": "python3"
  },
  "language_info": {
   "codemirror_mode": {
    "name": "ipython",
    "version": 3
   },
   "file_extension": ".py",
   "mimetype": "text/x-python",
   "name": "python",
   "nbconvert_exporter": "python",
   "pygments_lexer": "ipython3",
   "version": "3.11.7"
  }
 },
 "nbformat": 4,
 "nbformat_minor": 2
}
